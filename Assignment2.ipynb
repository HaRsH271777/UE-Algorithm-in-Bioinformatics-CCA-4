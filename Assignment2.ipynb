{
 "cells": [
  {
   "cell_type": "markdown",
   "metadata": {},
   "source": [
    "# Assignment 2: Advanced Genomic Analysis\n",
    "\n",
    "This notebook demonstrates the functions built in the `genomic_analysis_toolkit.py` module. We will import the module and test the functionality for each part of the assignment."
   ]
  },
  {
   "cell_type": "code",
   "execution_count": null,
   "metadata": {},
   "outputs": [],
   "source": [
    "# --- Setup --- \n",
    "# Import our custom toolkit\n",
    "import genomic_analysis_toolkit as gat\n",
    "\n",
    "# Import other libraries for plotting and analysis\n",
    "import matplotlib.pyplot as plt\n",
    "import numpy as np\n",
    "\n",
    "# Define a sample sequence for demonstrations\n",
    "test_seq = \"AGCATGGCATAACACCATGCTAGCATAGCT\""
   ]
  },
  {
   "cell_type": "markdown",
   "metadata": {},
   "source": [
    "## Part A: GC Content and Sequence Analysis\n",
    "\n",
    "Demonstrating GC content, sliding windows, GC skew, and k-mer analysis."
   ]
  },
  {
   "cell_type": "code",
   "execution_count": null,
   "metadata": {},
   "outputs": [],
   "source": [
    "# --- Q1: GC Content ---\n",
    "print(f\"Test Sequence: {test_seq}\")\n",
    "\n",
    "gc_percent = gat.calculate_gc_content(test_seq)\n",
    "print(f\"Overall GC Content: {gc_percent:.2f}%\")\n",
    "\n",
    "# Demonstrate with edge cases\n",
    "print(f\"GC Content ('NNNN'): {gat.calculate_gc_content('NNNN'):.2f}%\")\n",
    "print(f\"GC Content ('ATAT'): {gat.calculate_gc_content('ATAT'):.2f}%\")\n",
    "print(f\"GC Content (empty): {gat.calculate_gc_content(''):.2f}%\""
   ]
  },
  {
   "cell_type": "markdown",
   "metadata": {},
   "source": [
    "### Q1: Sliding Window and GC Skew Plot\n",
    "\n",
    "Here we will plot the GC Skew, a key requirement. A plot is the best way to visualize this."
   ]
  },
  {
   "cell_type": "code",
   "execution_count": null,
   "metadata": {},
   "outputs": [],
   "source": [
    "# --- GC Skew Plot ---\n",
    "window = 10\n",
    "step = 1\n",
    "skew_values = gat.calculate_gc_skew_sliding_window(test_seq, window, step)\n",
    "\n",
    "plt.figure(figsize=(12, 6))\n",
    "plt.plot(skew_values, label=f'GC Skew (Window={window}, Step={step})')\n",
    "plt.title('GC Skew Plot')\n",
    "plt.xlabel(f'Window Start Position (Step={step})')\n",
    "plt.ylabel('GC Skew ((G-C)/(G+C))')\n",
    "plt.grid(True, linestyle='--')\n",
    "plt.axhline(0, color='red', linestyle='--', label='Zero Skew') # Add a zero line\n",
    "plt.legend()\n",
    "plt.show()"
   ]
  },
  {
   "cell_type": "markdown",
   "metadata": {},
   "source": [
    "### Q2: Composition Analysis (k-mers and CpG)\n",
    "\n",
    "Demonstrating k-mer frequencies and CpG island detection."
   ]
  },
  {
   "cell_type": "code",
   "execution_count": null,
   "metadata": {},
   "outputs": [],
   "source": [
    "# --- k-mer Frequencies ---\n",
    "dinucl = gat.calculate_kmer_freq(test_seq, 2)\n",
    "print(\"Top 5 Dinucleotides:\")\n",
    "print(dinucl.most_common(5))\n",
    "\n",
    "trinucl = gat.calculate_kmer_freq(test_seq, 3)\n",
    "print(\"\\nTop 5 Trinucleotides:\")\n",
    "print(trinucl.most_common(5))\n",
    "\n",
    "# --- CpG Islands ---\n",
    "# A known CpG island sequence\n",
    "cpg_seq = \"CGCGCGCGCGCGCGCGCGCGCGCGCGCGCGCGCGCGCGCGCGCGCGCGCGCGCG\" * 5 \n",
    "islands = gat.find_cpg_islands(cpg_seq, 50, 50, 0.6)\n",
    "print(f\"\\nFound {len(islands)} potential CpG islands in positive test sequence.\")"
   ]
  },
  {
   "cell_type": "markdown",
   "metadata": {},
   "source": [
    "## Part B: Pattern Matching and Motif Discovery\n",
    "\n",
    "Demonstrating Hamming distance and motif finding algorithms."
   ]
  },
  {
   "cell_type": "markdown",
   "metadata": {},
   "source": [
    "### Question 3: Hamming Distance\n",
    "\n",
    "We test the Hamming distance calculation, including the specified error handling for sequences of different lengths."
   ]
  },
  {
   "cell_type": "code",
   "execution_count": null,
   "metadata": {},
   "outputs": [],
   "source": [
    "seq1 = \"GATTACA\"\n",
    "seq2 = \"GATTTCA\"\n",
    "seq3 = \"GATTACAAA\" # Different length\n",
    "\n",
    "try:\n",
    "    dist = gat.hamming_distance(seq1, seq2)\n",
    "    print(f\"Hamming Distance ('{seq1}', '{seq2}'): {dist}\")\n",
    "except ValueError as e:\n",
    "    print(f\"Error: {e}\")\n",
    "\n",
    "# Test the error handling\n",
    "print(\"\\nTesting with different lengths:\")\n",
    "try:\n",
    "    dist_fail = gat.hamming_distance(seq1, seq3)\n",
    "    print(f\"Hamming Distance ('{seq1}', '{seq3}'): {dist_fail}\")\n",
    "except ValueError as e:\n",
    "    print(f\"Caught expected error: {e}\")"
   ]
  },
  {
   "cell_type": "markdown",
   "metadata": {},
   "source": [
    "### Question 4: Motif Finding Algorithms\n",
    "\n",
    "We demonstrate both exact (with overlaps) and fuzzy (with mismatches) pattern matching."
   ]
  },
  {
   "cell_type": "code",
   "execution_count": null,
   "metadata": {},
   "outputs": [],
   "source": [
    "# --- Exact Pattern Matching (with overlaps) ---\n",
    "overlap_seq = \"AAAAA\"\n",
    "pattern_1 = \"AAA\"\n",
    "indices_1 = gat.find_exact_pattern(overlap_seq, pattern_1)\n",
    "print(f\"Finding '{pattern_1}' in '{overlap_seq}': {indices_1}\") # Should be [0, 1, 2]\n",
    "\n",
    "overlap_seq_2 = \"ATATATATA\"\n",
    "pattern_2 = \"ATA\"\n",
    "indices_2 = gat.find_exact_pattern(overlap_seq_2, pattern_2)\n",
    "print(f\"Finding '{pattern_2}' in '{overlap_seq_2}': {indices_2}\") # Should be [0, 2, 4, 6]\n",
    "\n",
    "# --- Fuzzy Pattern Matching ---\n",
    "fuzzy_seq = \"GATTACATAGATTACAT\"\n",
    "fuzzy_pattern = \"GATTTCA\"\n",
    "\n",
    "# With 1 mismatch allowed\n",
    "indices_fuzzy_1 = gat.find_fuzzy_pattern(fuzzy_seq, fuzzy_pattern, 1)\n",
    "print(f\"\\nFinding '{fuzzy_pattern}' in '{fuzzy_seq}' (<=1 mismatch): {indices_fuzzy_1}\")\n",
    "\n",
    "# With 0 mismatches allowed (should find none)\n",
    "indices_fuzzy_0 = gat.find_fuzzy_pattern(fuzzy_seq, fuzzy_pattern, 0)\n",
    "print(f\"Finding '{fuzzy_pattern}' in '{fuzzy_seq}' (<=0 mismatch): {indices_fuzzy_0}\")"
   ]
  },
  {
   "cell_type": "markdown",
   "metadata": {},
   "source": [
    "## Part C: Protein Sequence Analysis 🧬\n",
    "\n",
    "Demonstrating 6-frame analysis, translation, and ORF finding."
   ]
  },
  {
   "cell_type": "markdown",
   "metadata": {},
   "source": [
    "### Question 5: Reading Frame Analysis\n",
    "\n",
    "First, we'll demonstrate the helper functions: `reverse_complement` and `get_reading_frames`."
   ]
  },
  {
   "cell_type": "code",
   "execution_count": null,
   "metadata": {},
   "outputs": [],
   "source": [
    "# --- Reverse Complement ---\n",
    "rc_test = \"ATGCGN\"\n",
    "print(f\"Original:   {rc_test}\")\n",
    "print(f\"Rev-Comp:   {gat.reverse_complement(rc_test)}\")\n",
    "\n",
    "# --- Get 6 Reading Frames ---\n",
    "frame_test_seq = \"ATGCGT\"\n",
    "print(f\"\\nGetting 6 frames for: {frame_test_seq}\")\n",
    "frames = gat.get_reading_frames(frame_test_seq)\n",
    "frame_names = ['+1', '+2', '+3', '-1', '-2', '-3']\n",
    "\n",
    "for name, frame in zip(frame_names, frames):\n",
    "    print(f\"  {name}: {frame}\")"
   ]
  },
  {
   "cell_type": "markdown",
   "metadata": {},
   "source": [
    "### Question 6: Protein Translation and Analysis\n",
    "\n",
    "Here we'll demonstrate the `translate` function and then combine everything to find all ORFs and the longest one."
   ]
  },
  {
   "cell_type": "code",
   "execution_count": null,
   "metadata": {},
   "outputs": [],
   "source": [
    "# --- Simple Translation ---\n",
    "# ATG (M) GGT (G) TAA (STOP) CGA (R - ignored)\n",
    "trans_test = \"ATGGGTTAACGA\"\n",
    "print(f\"Translating '{trans_test}': {gat.translate(trans_test)}\") # Should be 'MG'\n",
    "\n",
    "# --- ORF Finding ---\n",
    "# This sequence has a clear ORF in frame +1 and frame +3\n",
    "orf_seq = \"AGCATGGCATAGCGCAACCATGCTAGCATAG\"\n",
    "# +1: AGC ATG GCA TAG ... (ORF: 'MA')\n",
    "# +3:     ATG CTA GCA TAG ... (ORF: 'MLA')\n",
    "\n",
    "print(f\"\\nFinding all ORFs in: {orf_seq}\")\n",
    "all_orfs = gat.find_all_orfs(orf_seq)\n",
    "\n",
    "if all_orfs:\n",
    "    for orf in all_orfs:\n",
    "        print(f\"  - Found ORF in frame {orf['frame']} (Start: {orf['start']}, End: {orf['end']}) -> Protein: {orf['protein']}\")\n",
    "else:\n",
    "    print(\"  - No ORFs found.\")\n",
    "\n",
    "# --- Find Longest ORF ---\n",
    "print(\"\\nFinding longest ORF:\")\n",
    "longest_orf = gat.find_longest_orf(orf_seq)\n",
    "\n",
    "if longest_orf:\n",
    "    print(f\"  Longest is '{longest_orf['protein']}' (Length: {longest_orf['length']}) from frame {longest_orf['frame']}.\")\n",
    "else:\n",
    "    print(\"  - No longest ORF found.\")"
   ]
  }
 ],
 "metadata": {
  "kernelspec": {
   "display_name": "Python 3 (ipykernel)",
   "language": "python",
   "name": "python3"
  },
  "language_info": {
   "codemirror_mode": {
    "name": "ipython",
    "version": 3
   },