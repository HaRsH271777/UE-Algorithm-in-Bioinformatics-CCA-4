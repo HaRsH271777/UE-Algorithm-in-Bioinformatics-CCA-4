{
 "cells": [
  {
   "cell_type": "code",
   "execution_count": 8,
   "metadata": {},
   "outputs": [],
   "source": [
    "# --- Setup --- \n",
    "# Import our custom toolkit\n",
    "import genomic_analysis_toolkit as gat\n",
    "\n",
    "# Import other libraries for plotting and analysis\n",
    "import matplotlib.pyplot as plt\n",
    "import numpy as np\n",
    "\n",
    "# Define a sample sequence for demonstrations\n",
    "test_seq = \"AGCATGGCATAACACCATGCTAGCATAGCT\""
   ]
  },
  {
   "cell_type": "code",
   "execution_count": 9,
   "metadata": {},
   "outputs": [
    {
     "ename": "_IncompleteInputError",
     "evalue": "incomplete input (872280364.py, line 10)",
     "output_type": "error",
     "traceback": [
      "  \u001b[36mCell\u001b[39m\u001b[36m \u001b[39m\u001b[32mIn[9]\u001b[39m\u001b[32m, line 10\u001b[39m\n\u001b[31m    \u001b[39m\u001b[31mprint(f\"GC Content (empty): {gat.calculate_gc_content(''):.2f}%\"\u001b[39m\n                                                                    ^\n\u001b[31m_IncompleteInputError\u001b[39m\u001b[31m:\u001b[39m incomplete input\n"
     ]
    }
   ],
   "source": [
    "# --- Q1: GC Content ---\n",
    "print(f\"Test Sequence: {test_seq}\")\n",
    "\n",
    "gc_percent = gat.calculate_gc_content(test_seq)\n",
    "print(f\"Overall GC Content: {gc_percent:.2f}%\")\n",
    "\n",
    "# Demonstrate with edge cases\n",
    "print(f\"GC Content ('NNNN'): {gat.calculate_gc_content('NNNN'):.2f}%\")\n",
    "print(f\"GC Content ('ATAT'): {gat.calculate_gc_content('ATAT'):.2f}%\")\n",
    "print(f\"GC Content (empty): {gat.calculate_gc_content(''):.2f}%\""
   ]
  },
  {
   "cell_type": "code",
   "execution_count": null,
   "metadata": {},
   "outputs": [],
   "source": [
    "# --- GC Skew Plot ---\n",
    "window = 10\n",
    "step = 1\n",
    "skew_values = gat.calculate_gc_skew_sliding_window(test_seq, window, step)\n",
    "\n",
    "plt.figure(figsize=(12, 6))\n",
    "plt.plot(skew_values, label=f'GC Skew (Window={window}, Step={step})')\n",
    "plt.title('GC Skew Plot')\n",
    "plt.xlabel(f'Window Start Position (Step={step})')\n",
    "plt.ylabel('GC Skew ((G-C)/(G+C))')\n",
    "plt.grid(True, linestyle='--')\n",
    "plt.axhline(0, color='red', linestyle='--', label='Zero Skew') # Add a zero line\n",
    "plt.legend()\n",
    "plt.show()"
   ]
  },
  {
   "cell_type": "code",
   "execution_count": null,
   "metadata": {},
   "outputs": [
    {
     "name": "stdout",
     "output_type": "stream",
     "text": [
      "Top 5 Dinucleotides:\n",
      "[('GC', 5), ('CA', 5), ('AT', 4), ('AG', 3), ('TA', 3)]\n",
      "\n",
      "Top 5 Trinucleotides:\n",
      "[('CAT', 4), ('AGC', 3), ('GCA', 3), ('ATG', 2), ('ATA', 2)]\n",
      "\n",
      "Found 221 potential CpG islands in positive test sequence.\n"
     ]
    }
   ],
   "source": [
    "# --- k-mer Frequencies ---\n",
    "dinucl = gat.calculate_kmer_freq(test_seq, 2)\n",
    "print(\"Top 5 Dinucleotides:\")\n",
    "print(dinucl.most_common(5))\n",
    "\n",
    "trinucl = gat.calculate_kmer_freq(test_seq, 3)\n",
    "print(\"\\nTop 5 Trinucleotides:\")\n",
    "print(trinucl.most_common(5))\n",
    "\n",
    "# --- CpG Islands ---\n",
    "# A known CpG island sequence\n",
    "cpg_seq = \"CGCGCGCGCGCGCGCGCGCGCGCGCGCGCGCGCGCGCGCGCGCGCGCGCGCGCG\" * 5 \n",
    "islands = gat.find_cpg_islands(cpg_seq, 50, 50, 0.6)\n",
    "print(f\"\\nFound {len(islands)} potential CpG islands in positive test sequence.\")"
   ]
  },
  {
   "cell_type": "markdown",
   "metadata": {},
   "source": [
    "Question 3: Hamming Distance\n",
    "\n",
    "We test the Hamming distance calculation, including the specified error handling for sequences of different lengths."
   ]
  },
  {
   "cell_type": "code",
   "execution_count": null,
   "metadata": {},
   "outputs": [],
   "source": [
    "seq1 = \"GATTACA\"\n",
    "seq2 = \"GATTTCA\"\n",
    "seq3 = \"GATTACAAA\" # Different length\n",
    "\n",
    "try:\n",
    "    dist = gat.hamming_distance(seq1, seq2)\n",
    "    print(f\"Hamming Distance ('{seq1}', '{seq2}'): {dist}\")\n",
    "except ValueError as e:\n",
    "    print(f\"Error: {e}\")\n",
    "\n",
    "# Test the error handling\n",
    "print(\"\\nTesting with different lengths:\")\n",
    "try:\n",
    "    dist_fail = gat.hamming_distance(seq1, seq3)\n",
    "    print(f\"Hamming Distance ('{seq1}', '{seq3}'): {dist_fail}\")\n",
    "except ValueError as e:\n",
    "    print(f\"Caught expected error: {e}\")"
   ]
  },
  {
   "cell_type": "markdown",
   "metadata": {},
   "source": [
    "Question 4: Motif Finding Algorithms\n",
    "\n",
    "We demonstrate both exact (with overlaps) and fuzzy (with mismatches) pattern matching."
   ]
  },
  {
   "cell_type": "code",
   "execution_count": null,
   "metadata": {},
   "outputs": [],
   "source": [
    "# --- Exact Pattern Matching (with overlaps) ---\n",
    "overlap_seq = \"AAAAA\"\n",
    "pattern_1 = \"AAA\"\n",
    "indices_1 = gat.find_exact_pattern(overlap_seq, pattern_1)\n",
    "print(f\"Finding '{pattern_1}' in '{overlap_seq}': {indices_1}\") # Should be [0, 1, 2]\n",
    "\n",
    "overlap_seq_2 = \"ATATATATA\"\n",
    "pattern_2 = \"ATA\"\n",
    "indices_2 = gat.find_exact_pattern(overlap_seq_2, pattern_2)\n",
    "print(f\"Finding '{pattern_2}' in '{overlap_seq_2}': {indices_2}\") # Should be [0, 2, 4, 6]\n",
    "\n",
    "# --- Fuzzy Pattern Matching ---\n",
    "fuzzy_seq = \"GATTACATAGATTACAT\"\n",
    "fuzzy_pattern = \"GATTTCA\"\n",
    "\n",
    "# With 1 mismatch allowed\n",
    "indices_fuzzy_1 = gat.find_fuzzy_pattern(fuzzy_seq, fuzzy_pattern, 1)\n",
    "print(f\"\\nFinding '{fuzzy_pattern}' in '{fuzzy_seq}' (<=1 mismatch): {indices_fuzzy_1}\")\n",
    "\n",
    "# With 0 mismatches allowed (should find none)\n",
    "indices_fuzzy_0 = gat.find_fuzzy_pattern(fuzzy_seq, fuzzy_pattern, 0)\n",
    "print(f\"Finding '{fuzzy_pattern}' in '{fuzzy_seq}' (<=0 mismatch): {indices_fuzzy_0}\")"
   ]
  }
 ],
 "metadata": {
  "kernelspec": {
   "display_name": ".venv (3.13.5)",
   "language": "python",
   "name": "python3"
  },
  "language_info": {
   "codemirror_mode": {
    "name": "ipython",
    "version": 3
   },
   "file_extension": ".py",
   "mimetype": "text/x-python",
   "name": "python",
   "nbconvert_exporter": "python",
   "pygments_lexer": "ipython3",
   "version": "3.13.5"
  }
 },
 "nbformat": 4,
 "nbformat_minor": 4
}
